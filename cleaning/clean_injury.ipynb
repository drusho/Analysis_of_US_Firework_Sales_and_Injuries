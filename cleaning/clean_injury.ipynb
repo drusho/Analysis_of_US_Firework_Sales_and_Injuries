{
 "metadata": {
  "language_info": {
   "codemirror_mode": {
    "name": "ipython",
    "version": 3
   },
   "file_extension": ".py",
   "mimetype": "text/x-python",
   "name": "python",
   "nbconvert_exporter": "python",
   "pygments_lexer": "ipython3",
   "version": "3.8.4"
  },
  "orig_nbformat": 4,
  "kernelspec": {
   "name": "python3",
   "display_name": "Python 3.8.4 64-bit ('3.8')"
  },
  "interpreter": {
   "hash": "082e9a3bcad0a290d0001e938aa60b99250c6c2ef33a923c00b70f9826caf4b7"
  }
 },
 "nbformat": 4,
 "nbformat_minor": 2,
 "cells": [
  {
   "source": [
    "# Introduction\n",
    "\n",
    "## __Project Goals__\n",
    "Provide an overview of incidents that involve fireworks.\n",
    "* Frequency by Date \n",
    "* Age Group(s) most affected\n",
    "* Frequency of Injury Type(s)\n",
    "\n",
    "<br>\n",
    "### About the Data\n",
    "\n",
    "Source: [Firework Injury Reports](https://www.cpsc.gov/cgibin/NEISSQuery/UserCriteria.aspx?UserAff=5x08cgz9T6YPDAZJzvlZjA%3d%3d&UserAffOther=9OYR9kUytIsLilKZieD5xg%3d%3d)\n",
    "\n",
    "The following notebook represents steps that were taken to organize and clean 5 excel files that consist of incident reports involving fireforks over the past 5 years from the CPSC (United States Consumer Product Safety Commision)\n",
    "\n",
    "\n",
    "The data that was aquired was in excel format and was over 200MB in size. The data needed to be converted to csv since reading excel into pandas is extremely slow.  CSV does create a large file but the trade off for increased reading speeds is worth it.\n",
    "\n",
    "<br> \n",
    "\n",
    "### Inspiration For Project\n",
    "- https://www.valuepenguin.com/who-uses-most-fireworks-united-states\n",
    "\n",
    "- https://www.americanpyro.com/industry-facts-figures\n",
    "\n",
    "<br>\n",
    "\n",
    "### Tools Used: \n",
    "* Pandas"
   ],
   "cell_type": "markdown",
   "metadata": {}
  },
  {
   "source": [
    "# Begin Cleaning Process\n",
    "\n",
    "### Import Libraries"
   ],
   "cell_type": "markdown",
   "metadata": {}
  },
  {
   "cell_type": "code",
   "execution_count": 7,
   "metadata": {},
   "outputs": [],
   "source": [
    "import pandas as pd"
   ]
  },
  {
   "cell_type": "code",
   "execution_count": 9,
   "metadata": {},
   "outputs": [
    {
     "output_type": "execute_result",
     "data": {
      "text/plain": [
       "   CPSC_Case_Number Treatment_Date  Age  Sex  Race Other_Race  Hispanic  \\\n",
       "0         160101845         1/1/16   92    1     0        NaN       NaN   \n",
       "1         160101847         1/1/16   90    1     0        NaN       NaN   \n",
       "2         160101848         1/1/16   71    2     0        NaN       NaN   \n",
       "3         160101852         1/1/16   71    2     0        NaN       NaN   \n",
       "4         160101857         1/1/16   57    1     0        NaN       NaN   \n",
       "\n",
       "   Body_Part  Diagnosis Other_Diagnosis  ...  Fire_Involvement  Alcohol Drug  \\\n",
       "0         79         57             NaN  ...                 0      NaN  NaN   \n",
       "1         79         57             NaN  ...                 0      NaN  NaN   \n",
       "2         79         57             NaN  ...                 0      NaN  NaN   \n",
       "3         31         64             NaN  ...                 0      NaN  NaN   \n",
       "4         83         59             NaN  ...                 0      NaN  NaN   \n",
       "\n",
       "   Product_1  Product_2  Product_3  \\\n",
       "0       1645       1807          0   \n",
       "1        670          0          0   \n",
       "2       1807          0          0   \n",
       "3       1144          0          0   \n",
       "4        464          0          0   \n",
       "\n",
       "                                           Narrative  Stratum  PSU    Weight  \n",
       "0  92YOM TRYINGO TO TAKE OFF PANTS AND LOST BALAN...        M   63  103.2251  \n",
       "1  90YOM FELL GETTING OUT OF A RECLINER CHAIR AND...        M   63  103.2251  \n",
       "2  71YOF SLIPPED AND FELL TO HER WET KITCHEN FLOO...        M   63  103.2251  \n",
       "3  71YOF CARRYING A 50 POUND BAG AND STRAINED CHE...        M   63  103.2251  \n",
       "4  57YOM DROPPED A KNIFE ONTO LEFT FOOT LACERATIO...        M   63  103.2251  \n",
       "\n",
       "[5 rows x 25 columns]"
      ],
      "text/html": "<div>\n<style scoped>\n    .dataframe tbody tr th:only-of-type {\n        vertical-align: middle;\n    }\n\n    .dataframe tbody tr th {\n        vertical-align: top;\n    }\n\n    .dataframe thead th {\n        text-align: right;\n    }\n</style>\n<table border=\"1\" class=\"dataframe\">\n  <thead>\n    <tr style=\"text-align: right;\">\n      <th></th>\n      <th>CPSC_Case_Number</th>\n      <th>Treatment_Date</th>\n      <th>Age</th>\n      <th>Sex</th>\n      <th>Race</th>\n      <th>Other_Race</th>\n      <th>Hispanic</th>\n      <th>Body_Part</th>\n      <th>Diagnosis</th>\n      <th>Other_Diagnosis</th>\n      <th>...</th>\n      <th>Fire_Involvement</th>\n      <th>Alcohol</th>\n      <th>Drug</th>\n      <th>Product_1</th>\n      <th>Product_2</th>\n      <th>Product_3</th>\n      <th>Narrative</th>\n      <th>Stratum</th>\n      <th>PSU</th>\n      <th>Weight</th>\n    </tr>\n  </thead>\n  <tbody>\n    <tr>\n      <th>0</th>\n      <td>160101845</td>\n      <td>1/1/16</td>\n      <td>92</td>\n      <td>1</td>\n      <td>0</td>\n      <td>NaN</td>\n      <td>NaN</td>\n      <td>79</td>\n      <td>57</td>\n      <td>NaN</td>\n      <td>...</td>\n      <td>0</td>\n      <td>NaN</td>\n      <td>NaN</td>\n      <td>1645</td>\n      <td>1807</td>\n      <td>0</td>\n      <td>92YOM TRYINGO TO TAKE OFF PANTS AND LOST BALAN...</td>\n      <td>M</td>\n      <td>63</td>\n      <td>103.2251</td>\n    </tr>\n    <tr>\n      <th>1</th>\n      <td>160101847</td>\n      <td>1/1/16</td>\n      <td>90</td>\n      <td>1</td>\n      <td>0</td>\n      <td>NaN</td>\n      <td>NaN</td>\n      <td>79</td>\n      <td>57</td>\n      <td>NaN</td>\n      <td>...</td>\n      <td>0</td>\n      <td>NaN</td>\n      <td>NaN</td>\n      <td>670</td>\n      <td>0</td>\n      <td>0</td>\n      <td>90YOM FELL GETTING OUT OF A RECLINER CHAIR AND...</td>\n      <td>M</td>\n      <td>63</td>\n      <td>103.2251</td>\n    </tr>\n    <tr>\n      <th>2</th>\n      <td>160101848</td>\n      <td>1/1/16</td>\n      <td>71</td>\n      <td>2</td>\n      <td>0</td>\n      <td>NaN</td>\n      <td>NaN</td>\n      <td>79</td>\n      <td>57</td>\n      <td>NaN</td>\n      <td>...</td>\n      <td>0</td>\n      <td>NaN</td>\n      <td>NaN</td>\n      <td>1807</td>\n      <td>0</td>\n      <td>0</td>\n      <td>71YOF SLIPPED AND FELL TO HER WET KITCHEN FLOO...</td>\n      <td>M</td>\n      <td>63</td>\n      <td>103.2251</td>\n    </tr>\n    <tr>\n      <th>3</th>\n      <td>160101852</td>\n      <td>1/1/16</td>\n      <td>71</td>\n      <td>2</td>\n      <td>0</td>\n      <td>NaN</td>\n      <td>NaN</td>\n      <td>31</td>\n      <td>64</td>\n      <td>NaN</td>\n      <td>...</td>\n      <td>0</td>\n      <td>NaN</td>\n      <td>NaN</td>\n      <td>1144</td>\n      <td>0</td>\n      <td>0</td>\n      <td>71YOF CARRYING A 50 POUND BAG AND STRAINED CHE...</td>\n      <td>M</td>\n      <td>63</td>\n      <td>103.2251</td>\n    </tr>\n    <tr>\n      <th>4</th>\n      <td>160101857</td>\n      <td>1/1/16</td>\n      <td>57</td>\n      <td>1</td>\n      <td>0</td>\n      <td>NaN</td>\n      <td>NaN</td>\n      <td>83</td>\n      <td>59</td>\n      <td>NaN</td>\n      <td>...</td>\n      <td>0</td>\n      <td>NaN</td>\n      <td>NaN</td>\n      <td>464</td>\n      <td>0</td>\n      <td>0</td>\n      <td>57YOM DROPPED A KNIFE ONTO LEFT FOOT LACERATIO...</td>\n      <td>M</td>\n      <td>63</td>\n      <td>103.2251</td>\n    </tr>\n  </tbody>\n</table>\n<p>5 rows × 25 columns</p>\n</div>"
     },
     "metadata": {},
     "execution_count": 9
    }
   ],
   "source": [
    "filelist = ['NEISS_2016.csv','NEISS_2017.csv','NEISS_2018.csv','NEISS_2019.csv','NEISS_2020.csv']\n",
    "df = pd.concat(map(pd.read_csv, filelist))\n",
    "df.head(3)"
   ]
  },
  {
   "cell_type": "code",
   "execution_count": 13,
   "metadata": {},
   "outputs": [
    {
     "output_type": "stream",
     "name": "stdout",
     "text": [
      "<class 'pandas.core.frame.DataFrame'>\nInt64Index: 1791854 entries, 0 to 309369\nData columns (total 25 columns):\n #   Column             Dtype  \n---  ------             -----  \n 0   CPSC_Case_Number   int64  \n 1   Treatment_Date     object \n 2   Age                int64  \n 3   Sex                int64  \n 4   Race               int64  \n 5   Other_Race         object \n 6   Hispanic           float64\n 7   Body_Part          int64  \n 8   Diagnosis          int64  \n 9   Other_Diagnosis    object \n 10  Body_Part_2        float64\n 11  Diagnosis_2        float64\n 12  Other_Diagnosis_2  object \n 13  Disposition        int64  \n 14  Location           int64  \n 15  Fire_Involvement   int64  \n 16  Alcohol            float64\n 17  Drug               float64\n 18  Product_1          int64  \n 19  Product_2          int64  \n 20  Product_3          int64  \n 21  Narrative          object \n 22  Stratum            object \n 23  PSU                int64  \n 24  Weight             float64\ndtypes: float64(6), int64(13), object(6)\nmemory usage: 387.7+ MB\n"
     ]
    }
   ],
   "source": [
    "df.info()"
   ]
  },
  {
   "source": [],
   "cell_type": "markdown",
   "metadata": {}
  },
  {
   "source": [
    "### Reduce DataFrame Size\n",
    "\n",
    "Filter results to only diplay firework related incidents \n",
    "* *Fireworks product code is '1313'*"
   ],
   "cell_type": "markdown",
   "metadata": {}
  },
  {
   "cell_type": "code",
   "execution_count": 12,
   "metadata": {},
   "outputs": [
    {
     "output_type": "stream",
     "name": "stdout",
     "text": [
      "<class 'pandas.core.frame.DataFrame'>\nInt64Index: 1532 entries, 57 to 308881\nData columns (total 25 columns):\n #   Column             Non-Null Count  Dtype  \n---  ------             --------------  -----  \n 0   CPSC_Case_Number   1532 non-null   int64  \n 1   Treatment_Date     1532 non-null   object \n 2   Age                1532 non-null   int64  \n 3   Sex                1532 non-null   int64  \n 4   Race               1532 non-null   int64  \n 5   Other_Race         88 non-null     object \n 6   Hispanic           701 non-null    float64\n 7   Body_Part          1532 non-null   int64  \n 8   Diagnosis          1532 non-null   int64  \n 9   Other_Diagnosis    146 non-null    object \n 10  Body_Part_2        267 non-null    float64\n 11  Diagnosis_2        267 non-null    float64\n 12  Other_Diagnosis_2  28 non-null     object \n 13  Disposition        1532 non-null   int64  \n 14  Location           1532 non-null   int64  \n 15  Fire_Involvement   1532 non-null   int64  \n 16  Alcohol            701 non-null    float64\n 17  Drug               701 non-null    float64\n 18  Product_1          1532 non-null   int64  \n 19  Product_2          1532 non-null   int64  \n 20  Product_3          1532 non-null   int64  \n 21  Narrative          1532 non-null   object \n 22  Stratum            1532 non-null   object \n 23  PSU                1532 non-null   int64  \n 24  Weight             1532 non-null   float64\ndtypes: float64(6), int64(13), object(6)\nmemory usage: 311.2+ KB\n"
     ]
    }
   ],
   "source": [
    "df1 = df.query('(Product_1 == 1313) | (Product_2 == 1313) | (Product_3 == 1313)')\n",
    "df1.info()"
   ]
  },
  {
   "source": [
    "### Reduce Columns \n",
    "\n",
    "Remove unnecessary columns"
   ],
   "cell_type": "markdown",
   "metadata": {}
  },
  {
   "cell_type": "code",
   "execution_count": 25,
   "metadata": {},
   "outputs": [
    {
     "output_type": "execute_result",
     "data": {
      "text/plain": [
       "  Treatment_Date  Age  Sex  Body_Part  Diagnosis  Disposition  Location  \\\n",
       "0         1/1/16   39    1         77         53            1         1   \n",
       "1         1/1/16   10    1         82         51            1         1   \n",
       "2         1/1/16   35    1         31         62            4         0   \n",
       "3         1/1/16   13    1         77         53            1         0   \n",
       "4         1/1/16  216    1         31         51            1         0   \n",
       "\n",
       "  Alcohol Drug                                          Narrative  \n",
       "0               39YOM WAS LIGHTING BOTTLE ROCKETS AND ONE FLEW...  \n",
       "1               10YOM SUSTAINED A THERMAL BURN TO HAND AFTER H...  \n",
       "2               35YOM HIT IN THE CHEST WITH A MORTAR TYPE FIRE...  \n",
       "3               13YOM SOMEONE POINTED FIREWORKS AT HIM FROM 10...  \n",
       "4               16MOM FAMILY PLAYING WITH FIREWORKS AND ONE SH...  "
      ],
      "text/html": "<div>\n<style scoped>\n    .dataframe tbody tr th:only-of-type {\n        vertical-align: middle;\n    }\n\n    .dataframe tbody tr th {\n        vertical-align: top;\n    }\n\n    .dataframe thead th {\n        text-align: right;\n    }\n</style>\n<table border=\"1\" class=\"dataframe\">\n  <thead>\n    <tr style=\"text-align: right;\">\n      <th></th>\n      <th>Treatment_Date</th>\n      <th>Age</th>\n      <th>Sex</th>\n      <th>Body_Part</th>\n      <th>Diagnosis</th>\n      <th>Disposition</th>\n      <th>Location</th>\n      <th>Alcohol</th>\n      <th>Drug</th>\n      <th>Narrative</th>\n    </tr>\n  </thead>\n  <tbody>\n    <tr>\n      <th>0</th>\n      <td>1/1/16</td>\n      <td>39</td>\n      <td>1</td>\n      <td>77</td>\n      <td>53</td>\n      <td>1</td>\n      <td>1</td>\n      <td></td>\n      <td></td>\n      <td>39YOM WAS LIGHTING BOTTLE ROCKETS AND ONE FLEW...</td>\n    </tr>\n    <tr>\n      <th>1</th>\n      <td>1/1/16</td>\n      <td>10</td>\n      <td>1</td>\n      <td>82</td>\n      <td>51</td>\n      <td>1</td>\n      <td>1</td>\n      <td></td>\n      <td></td>\n      <td>10YOM SUSTAINED A THERMAL BURN TO HAND AFTER H...</td>\n    </tr>\n    <tr>\n      <th>2</th>\n      <td>1/1/16</td>\n      <td>35</td>\n      <td>1</td>\n      <td>31</td>\n      <td>62</td>\n      <td>4</td>\n      <td>0</td>\n      <td></td>\n      <td></td>\n      <td>35YOM HIT IN THE CHEST WITH A MORTAR TYPE FIRE...</td>\n    </tr>\n    <tr>\n      <th>3</th>\n      <td>1/1/16</td>\n      <td>13</td>\n      <td>1</td>\n      <td>77</td>\n      <td>53</td>\n      <td>1</td>\n      <td>0</td>\n      <td></td>\n      <td></td>\n      <td>13YOM SOMEONE POINTED FIREWORKS AT HIM FROM 10...</td>\n    </tr>\n    <tr>\n      <th>4</th>\n      <td>1/1/16</td>\n      <td>216</td>\n      <td>1</td>\n      <td>31</td>\n      <td>51</td>\n      <td>1</td>\n      <td>0</td>\n      <td></td>\n      <td></td>\n      <td>16MOM FAMILY PLAYING WITH FIREWORKS AND ONE SH...</td>\n    </tr>\n  </tbody>\n</table>\n</div>"
     },
     "metadata": {},
     "execution_count": 25
    }
   ],
   "source": [
    "# reduce df size and clean na values\n",
    "df2 = df1[['Treatment_Date','Age','Sex','Body_Part','Diagnosis','Disposition','Location','Alcohol','Drug','Narrative']].fillna('').reset_index(drop=True)\n",
    "\n",
    "df2.head()"
   ]
  },
  {
   "cell_type": "code",
   "execution_count": 26,
   "metadata": {},
   "outputs": [
    {
     "output_type": "execute_result",
     "data": {
      "text/plain": [
       "  Treatment_Date  Age   Sex  Body_Part  Diagnosis  Disposition  Location  \\\n",
       "0         1/1/16   39  Male         77         53            1         1   \n",
       "1         1/1/16   10  Male         82         51            1         1   \n",
       "\n",
       "  Alcohol Drug                                          Narrative  \n",
       "0               39YOM WAS LIGHTING BOTTLE ROCKETS AND ONE FLEW...  \n",
       "1               10YOM SUSTAINED A THERMAL BURN TO HAND AFTER H...  "
      ],
      "text/html": "<div>\n<style scoped>\n    .dataframe tbody tr th:only-of-type {\n        vertical-align: middle;\n    }\n\n    .dataframe tbody tr th {\n        vertical-align: top;\n    }\n\n    .dataframe thead th {\n        text-align: right;\n    }\n</style>\n<table border=\"1\" class=\"dataframe\">\n  <thead>\n    <tr style=\"text-align: right;\">\n      <th></th>\n      <th>Treatment_Date</th>\n      <th>Age</th>\n      <th>Sex</th>\n      <th>Body_Part</th>\n      <th>Diagnosis</th>\n      <th>Disposition</th>\n      <th>Location</th>\n      <th>Alcohol</th>\n      <th>Drug</th>\n      <th>Narrative</th>\n    </tr>\n  </thead>\n  <tbody>\n    <tr>\n      <th>0</th>\n      <td>1/1/16</td>\n      <td>39</td>\n      <td>Male</td>\n      <td>77</td>\n      <td>53</td>\n      <td>1</td>\n      <td>1</td>\n      <td></td>\n      <td></td>\n      <td>39YOM WAS LIGHTING BOTTLE ROCKETS AND ONE FLEW...</td>\n    </tr>\n    <tr>\n      <th>1</th>\n      <td>1/1/16</td>\n      <td>10</td>\n      <td>Male</td>\n      <td>82</td>\n      <td>51</td>\n      <td>1</td>\n      <td>1</td>\n      <td></td>\n      <td></td>\n      <td>10YOM SUSTAINED A THERMAL BURN TO HAND AFTER H...</td>\n    </tr>\n  </tbody>\n</table>\n</div>"
     },
     "metadata": {},
     "execution_count": 26
    }
   ],
   "source": [
    "# Fix Sex columns\n",
    "df2.Sex = df2.Sex.replace(1,\"Male\").replace(2,\"Female\")\n",
    "df2.head(2)"
   ]
  },
  {
   "cell_type": "code",
   "execution_count": 27,
   "metadata": {},
   "outputs": [
    {
     "output_type": "execute_result",
     "data": {
      "text/plain": [
       "   Code                Incident Locale\n",
       "0     1                           Home\n",
       "1     2                     Farm/Ranch\n",
       "2     4              Street or highway\n",
       "3     5          Other public property\n",
       "4     6     Manufactured (mobile) home\n",
       "5     7               Industrial place\n",
       "6     8                         School\n",
       "7     9  Place of recreation or sports\n",
       "8     0                   Not recorded"
      ],
      "text/html": "<div>\n<style scoped>\n    .dataframe tbody tr th:only-of-type {\n        vertical-align: middle;\n    }\n\n    .dataframe tbody tr th {\n        vertical-align: top;\n    }\n\n    .dataframe thead th {\n        text-align: right;\n    }\n</style>\n<table border=\"1\" class=\"dataframe\">\n  <thead>\n    <tr style=\"text-align: right;\">\n      <th></th>\n      <th>Code</th>\n      <th>Incident Locale</th>\n    </tr>\n  </thead>\n  <tbody>\n    <tr>\n      <th>0</th>\n      <td>1</td>\n      <td>Home</td>\n    </tr>\n    <tr>\n      <th>1</th>\n      <td>2</td>\n      <td>Farm/Ranch</td>\n    </tr>\n    <tr>\n      <th>2</th>\n      <td>4</td>\n      <td>Street or highway</td>\n    </tr>\n    <tr>\n      <th>3</th>\n      <td>5</td>\n      <td>Other public property</td>\n    </tr>\n    <tr>\n      <th>4</th>\n      <td>6</td>\n      <td>Manufactured (mobile) home</td>\n    </tr>\n    <tr>\n      <th>5</th>\n      <td>7</td>\n      <td>Industrial place</td>\n    </tr>\n    <tr>\n      <th>6</th>\n      <td>8</td>\n      <td>School</td>\n    </tr>\n    <tr>\n      <th>7</th>\n      <td>9</td>\n      <td>Place of recreation or sports</td>\n    </tr>\n    <tr>\n      <th>8</th>\n      <td>0</td>\n      <td>Not recorded</td>\n    </tr>\n  </tbody>\n</table>\n</div>"
     },
     "metadata": {},
     "execution_count": 27
    }
   ],
   "source": [
    "local_df = pd.read_pickle('df_incident_local.pkl')\n",
    "local_df"
   ]
  },
  {
   "cell_type": "code",
   "execution_count": 29,
   "metadata": {},
   "outputs": [
    {
     "output_type": "execute_result",
     "data": {
      "text/plain": [
       "    Treatment_Date  Age   Sex  Body_Part  Diagnosis  Disposition Alcohol Drug  \\\n",
       "34         6/25/16   30  Male         30         51            1                \n",
       "245        2/22/17   18  Male         82         51            1                \n",
       "901        4/18/20   58  Male         77         53            1     0.0  0.0   \n",
       "\n",
       "                                             Narrative Incident Locale  \n",
       "34   30 YOM WATCHING FIREWORKS@ RACEWAY, FIREWORK T...            Home  \n",
       "245  18 YOM PICKED UP A FIRECRACKER (TYPE P) THINKI...            Home  \n",
       "901  58 YOM C/O EYE ABRASION S/P OPENING A CONTAINE...            Home  "
      ],
      "text/html": "<div>\n<style scoped>\n    .dataframe tbody tr th:only-of-type {\n        vertical-align: middle;\n    }\n\n    .dataframe tbody tr th {\n        vertical-align: top;\n    }\n\n    .dataframe thead th {\n        text-align: right;\n    }\n</style>\n<table border=\"1\" class=\"dataframe\">\n  <thead>\n    <tr style=\"text-align: right;\">\n      <th></th>\n      <th>Treatment_Date</th>\n      <th>Age</th>\n      <th>Sex</th>\n      <th>Body_Part</th>\n      <th>Diagnosis</th>\n      <th>Disposition</th>\n      <th>Alcohol</th>\n      <th>Drug</th>\n      <th>Narrative</th>\n      <th>Incident Locale</th>\n    </tr>\n  </thead>\n  <tbody>\n    <tr>\n      <th>34</th>\n      <td>6/25/16</td>\n      <td>30</td>\n      <td>Male</td>\n      <td>30</td>\n      <td>51</td>\n      <td>1</td>\n      <td></td>\n      <td></td>\n      <td>30 YOM WATCHING FIREWORKS@ RACEWAY, FIREWORK T...</td>\n      <td>Home</td>\n    </tr>\n    <tr>\n      <th>245</th>\n      <td>2/22/17</td>\n      <td>18</td>\n      <td>Male</td>\n      <td>82</td>\n      <td>51</td>\n      <td>1</td>\n      <td></td>\n      <td></td>\n      <td>18 YOM PICKED UP A FIRECRACKER (TYPE P) THINKI...</td>\n      <td>Home</td>\n    </tr>\n    <tr>\n      <th>901</th>\n      <td>4/18/20</td>\n      <td>58</td>\n      <td>Male</td>\n      <td>77</td>\n      <td>53</td>\n      <td>1</td>\n      <td>0.0</td>\n      <td>0.0</td>\n      <td>58 YOM C/O EYE ABRASION S/P OPENING A CONTAINE...</td>\n      <td>Home</td>\n    </tr>\n  </tbody>\n</table>\n</div>"
     },
     "metadata": {},
     "execution_count": 29
    }
   ],
   "source": [
    "# fix Incident Locale\n",
    "df3 = pd.merge(df2, local_df, left_on='Disposition', right_on='Code').drop(['Code','Location'],axis=1)\n",
    "df3.sample(3)"
   ]
  },
  {
   "cell_type": "code",
   "execution_count": 30,
   "metadata": {},
   "outputs": [
    {
     "output_type": "execute_result",
     "data": {
      "text/plain": [
       "    Code          Body_Part\n",
       "0      0           Internal\n",
       "1     30           Shoulder\n",
       "2     31        Upper Trunk\n",
       "3     32              Elbow\n",
       "4     33          Lower Arm\n",
       "5     34              Wrist\n",
       "6     35               Knee\n",
       "7     36          Lower Leg\n",
       "8     37              Ankle\n",
       "9     38       Pubic Region\n",
       "10    75               Head\n",
       "11    76               Face\n",
       "12    77            Eyeball\n",
       "13    79        Lower Trunk\n",
       "14    80          Upper Arm\n",
       "15    81          Upper Leg\n",
       "16    82               Hand\n",
       "17    83               Foot\n",
       "18    84   25-50'%' of Body\n",
       "19    85  All Parts of Body\n",
       "20    87         Not Stated\n",
       "21    88              Mouth\n",
       "22    89               Neck\n",
       "23    92             Finger\n",
       "24    93                Toe\n",
       "25    94                Ear"
      ],
      "text/html": "<div>\n<style scoped>\n    .dataframe tbody tr th:only-of-type {\n        vertical-align: middle;\n    }\n\n    .dataframe tbody tr th {\n        vertical-align: top;\n    }\n\n    .dataframe thead th {\n        text-align: right;\n    }\n</style>\n<table border=\"1\" class=\"dataframe\">\n  <thead>\n    <tr style=\"text-align: right;\">\n      <th></th>\n      <th>Code</th>\n      <th>Body_Part</th>\n    </tr>\n  </thead>\n  <tbody>\n    <tr>\n      <th>0</th>\n      <td>0</td>\n      <td>Internal</td>\n    </tr>\n    <tr>\n      <th>1</th>\n      <td>30</td>\n      <td>Shoulder</td>\n    </tr>\n    <tr>\n      <th>2</th>\n      <td>31</td>\n      <td>Upper Trunk</td>\n    </tr>\n    <tr>\n      <th>3</th>\n      <td>32</td>\n      <td>Elbow</td>\n    </tr>\n    <tr>\n      <th>4</th>\n      <td>33</td>\n      <td>Lower Arm</td>\n    </tr>\n    <tr>\n      <th>5</th>\n      <td>34</td>\n      <td>Wrist</td>\n    </tr>\n    <tr>\n      <th>6</th>\n      <td>35</td>\n      <td>Knee</td>\n    </tr>\n    <tr>\n      <th>7</th>\n      <td>36</td>\n      <td>Lower Leg</td>\n    </tr>\n    <tr>\n      <th>8</th>\n      <td>37</td>\n      <td>Ankle</td>\n    </tr>\n    <tr>\n      <th>9</th>\n      <td>38</td>\n      <td>Pubic Region</td>\n    </tr>\n    <tr>\n      <th>10</th>\n      <td>75</td>\n      <td>Head</td>\n    </tr>\n    <tr>\n      <th>11</th>\n      <td>76</td>\n      <td>Face</td>\n    </tr>\n    <tr>\n      <th>12</th>\n      <td>77</td>\n      <td>Eyeball</td>\n    </tr>\n    <tr>\n      <th>13</th>\n      <td>79</td>\n      <td>Lower Trunk</td>\n    </tr>\n    <tr>\n      <th>14</th>\n      <td>80</td>\n      <td>Upper Arm</td>\n    </tr>\n    <tr>\n      <th>15</th>\n      <td>81</td>\n      <td>Upper Leg</td>\n    </tr>\n    <tr>\n      <th>16</th>\n      <td>82</td>\n      <td>Hand</td>\n    </tr>\n    <tr>\n      <th>17</th>\n      <td>83</td>\n      <td>Foot</td>\n    </tr>\n    <tr>\n      <th>18</th>\n      <td>84</td>\n      <td>25-50'%' of Body</td>\n    </tr>\n    <tr>\n      <th>19</th>\n      <td>85</td>\n      <td>All Parts of Body</td>\n    </tr>\n    <tr>\n      <th>20</th>\n      <td>87</td>\n      <td>Not Stated</td>\n    </tr>\n    <tr>\n      <th>21</th>\n      <td>88</td>\n      <td>Mouth</td>\n    </tr>\n    <tr>\n      <th>22</th>\n      <td>89</td>\n      <td>Neck</td>\n    </tr>\n    <tr>\n      <th>23</th>\n      <td>92</td>\n      <td>Finger</td>\n    </tr>\n    <tr>\n      <th>24</th>\n      <td>93</td>\n      <td>Toe</td>\n    </tr>\n    <tr>\n      <th>25</th>\n      <td>94</td>\n      <td>Ear</td>\n    </tr>\n  </tbody>\n</table>\n</div>"
     },
     "metadata": {},
     "execution_count": 30
    }
   ],
   "source": [
    "body_part_df = pd.read_pickle('df_body_part.pkl')\n",
    "body_part_df"
   ]
  },
  {
   "cell_type": "code",
   "execution_count": 33,
   "metadata": {},
   "outputs": [
    {
     "output_type": "execute_result",
     "data": {
      "text/plain": [
       "     Treatment_Date  Age     Sex  Diagnosis  Disposition Alcohol Drug  \\\n",
       "84          7/10/18   10  Female         53            1                \n",
       "20           7/4/16    3    Male         53            1                \n",
       "1496         7/6/16    4  Female         51            1                \n",
       "\n",
       "                                              Narrative Incident Locale  \\\n",
       "84    10 YOF AND MOTHER WERE SETTING OFF FIREWORKS; ...            Home   \n",
       "20    3 YO M WITH A CONTUSION TO L EYEBALL WHEN A PO...            Home   \n",
       "1496  4 YOF PATIENT'S SISTER TOUCHED SPARKLER FIREWO...            Home   \n",
       "\n",
       "     Body_Part  \n",
       "84     Eyeball  \n",
       "20     Eyeball  \n",
       "1496      Knee  "
      ],
      "text/html": "<div>\n<style scoped>\n    .dataframe tbody tr th:only-of-type {\n        vertical-align: middle;\n    }\n\n    .dataframe tbody tr th {\n        vertical-align: top;\n    }\n\n    .dataframe thead th {\n        text-align: right;\n    }\n</style>\n<table border=\"1\" class=\"dataframe\">\n  <thead>\n    <tr style=\"text-align: right;\">\n      <th></th>\n      <th>Treatment_Date</th>\n      <th>Age</th>\n      <th>Sex</th>\n      <th>Diagnosis</th>\n      <th>Disposition</th>\n      <th>Alcohol</th>\n      <th>Drug</th>\n      <th>Narrative</th>\n      <th>Incident Locale</th>\n      <th>Body_Part</th>\n    </tr>\n  </thead>\n  <tbody>\n    <tr>\n      <th>84</th>\n      <td>7/10/18</td>\n      <td>10</td>\n      <td>Female</td>\n      <td>53</td>\n      <td>1</td>\n      <td></td>\n      <td></td>\n      <td>10 YOF AND MOTHER WERE SETTING OFF FIREWORKS; ...</td>\n      <td>Home</td>\n      <td>Eyeball</td>\n    </tr>\n    <tr>\n      <th>20</th>\n      <td>7/4/16</td>\n      <td>3</td>\n      <td>Male</td>\n      <td>53</td>\n      <td>1</td>\n      <td></td>\n      <td></td>\n      <td>3 YO M WITH A CONTUSION TO L EYEBALL WHEN A PO...</td>\n      <td>Home</td>\n      <td>Eyeball</td>\n    </tr>\n    <tr>\n      <th>1496</th>\n      <td>7/6/16</td>\n      <td>4</td>\n      <td>Female</td>\n      <td>51</td>\n      <td>1</td>\n      <td></td>\n      <td></td>\n      <td>4 YOF PATIENT'S SISTER TOUCHED SPARKLER FIREWO...</td>\n      <td>Home</td>\n      <td>Knee</td>\n    </tr>\n  </tbody>\n</table>\n</div>"
     },
     "metadata": {},
     "execution_count": 33
    }
   ],
   "source": [
    "# fix Body Part\n",
    "df4 = pd.merge(df3, body_part_df, left_on='Body_Part', right_on='Code').drop(['Code','Body_Part_x'],axis=1)\n",
    "df4.rename(columns={'Body_Part_y':'Body_Part'},inplace=True)\n",
    "df4.sample(3)"
   ]
  },
  {
   "cell_type": "code",
   "execution_count": 34,
   "metadata": {},
   "outputs": [
    {
     "output_type": "execute_result",
     "data": {
      "text/plain": [
       "                                           Diagnosis1  Code\n",
       "0                             Ingested foreign object    41\n",
       "1                            Aspirated foreign object    42\n",
       "2           Burns, electrical 46 Burns, not specified    47\n",
       "3            Burns, scald (from hot liquids or steam)    48\n",
       "4                    Burns, chemical (caustics, etc.)    49\n",
       "5                                          Amputation    50\n",
       "6         Burns, thermal (from flames or hot surface)    51\n",
       "7                                         Concussions    52\n",
       "8                               Contusions, Abrasions    53\n",
       "9                                            Crushing    54\n",
       "10                                        Dislocation    55\n",
       "11                                       Foreign body    56\n",
       "12                                           Fracture    57\n",
       "13                                           Hematoma    58\n",
       "14                                         Laceration    59\n",
       "15                                      Dental injury    60\n",
       "16                                       Nerve damage    61\n",
       "17                              Internal organ injury    62\n",
       "18                                           Puncture    63\n",
       "19                                   Strain or Sprain    64\n",
       "20                                             Anoxia    65\n",
       "21                                         Hemorrhage    66\n",
       "22                                     Electric shock    67\n",
       "23                                          Poisoning    68\n",
       "24                    Submersion (including Drowning)    69\n",
       "25                                   Other/Not Stated    71\n",
       "26                                           Avulsion    72\n",
       "27  Burns, radiation (includes all cell damage by ...    73\n",
       "28                         Dermatitis, Conjunctivitis    74"
      ],
      "text/html": "<div>\n<style scoped>\n    .dataframe tbody tr th:only-of-type {\n        vertical-align: middle;\n    }\n\n    .dataframe tbody tr th {\n        vertical-align: top;\n    }\n\n    .dataframe thead th {\n        text-align: right;\n    }\n</style>\n<table border=\"1\" class=\"dataframe\">\n  <thead>\n    <tr style=\"text-align: right;\">\n      <th></th>\n      <th>Diagnosis1</th>\n      <th>Code</th>\n    </tr>\n  </thead>\n  <tbody>\n    <tr>\n      <th>0</th>\n      <td>Ingested foreign object</td>\n      <td>41</td>\n    </tr>\n    <tr>\n      <th>1</th>\n      <td>Aspirated foreign object</td>\n      <td>42</td>\n    </tr>\n    <tr>\n      <th>2</th>\n      <td>Burns, electrical 46 Burns, not specified</td>\n      <td>47</td>\n    </tr>\n    <tr>\n      <th>3</th>\n      <td>Burns, scald (from hot liquids or steam)</td>\n      <td>48</td>\n    </tr>\n    <tr>\n      <th>4</th>\n      <td>Burns, chemical (caustics, etc.)</td>\n      <td>49</td>\n    </tr>\n    <tr>\n      <th>5</th>\n      <td>Amputation</td>\n      <td>50</td>\n    </tr>\n    <tr>\n      <th>6</th>\n      <td>Burns, thermal (from flames or hot surface)</td>\n      <td>51</td>\n    </tr>\n    <tr>\n      <th>7</th>\n      <td>Concussions</td>\n      <td>52</td>\n    </tr>\n    <tr>\n      <th>8</th>\n      <td>Contusions, Abrasions</td>\n      <td>53</td>\n    </tr>\n    <tr>\n      <th>9</th>\n      <td>Crushing</td>\n      <td>54</td>\n    </tr>\n    <tr>\n      <th>10</th>\n      <td>Dislocation</td>\n      <td>55</td>\n    </tr>\n    <tr>\n      <th>11</th>\n      <td>Foreign body</td>\n      <td>56</td>\n    </tr>\n    <tr>\n      <th>12</th>\n      <td>Fracture</td>\n      <td>57</td>\n    </tr>\n    <tr>\n      <th>13</th>\n      <td>Hematoma</td>\n      <td>58</td>\n    </tr>\n    <tr>\n      <th>14</th>\n      <td>Laceration</td>\n      <td>59</td>\n    </tr>\n    <tr>\n      <th>15</th>\n      <td>Dental injury</td>\n      <td>60</td>\n    </tr>\n    <tr>\n      <th>16</th>\n      <td>Nerve damage</td>\n      <td>61</td>\n    </tr>\n    <tr>\n      <th>17</th>\n      <td>Internal organ injury</td>\n      <td>62</td>\n    </tr>\n    <tr>\n      <th>18</th>\n      <td>Puncture</td>\n      <td>63</td>\n    </tr>\n    <tr>\n      <th>19</th>\n      <td>Strain or Sprain</td>\n      <td>64</td>\n    </tr>\n    <tr>\n      <th>20</th>\n      <td>Anoxia</td>\n      <td>65</td>\n    </tr>\n    <tr>\n      <th>21</th>\n      <td>Hemorrhage</td>\n      <td>66</td>\n    </tr>\n    <tr>\n      <th>22</th>\n      <td>Electric shock</td>\n      <td>67</td>\n    </tr>\n    <tr>\n      <th>23</th>\n      <td>Poisoning</td>\n      <td>68</td>\n    </tr>\n    <tr>\n      <th>24</th>\n      <td>Submersion (including Drowning)</td>\n      <td>69</td>\n    </tr>\n    <tr>\n      <th>25</th>\n      <td>Other/Not Stated</td>\n      <td>71</td>\n    </tr>\n    <tr>\n      <th>26</th>\n      <td>Avulsion</td>\n      <td>72</td>\n    </tr>\n    <tr>\n      <th>27</th>\n      <td>Burns, radiation (includes all cell damage by ...</td>\n      <td>73</td>\n    </tr>\n    <tr>\n      <th>28</th>\n      <td>Dermatitis, Conjunctivitis</td>\n      <td>74</td>\n    </tr>\n  </tbody>\n</table>\n</div>"
     },
     "metadata": {},
     "execution_count": 34
    }
   ],
   "source": [
    "# import Diagnosis pkl\n",
    "diagnosis_df = pd.read_pickle('df_diagnosis.pkl')\n",
    "diagnosis_df"
   ]
  },
  {
   "cell_type": "code",
   "execution_count": 41,
   "metadata": {},
   "outputs": [
    {
     "output_type": "execute_result",
     "data": {
      "text/plain": [
       "    Treatment_Date  Age     Sex  Disposition Alcohol Drug  \\\n",
       "400        11/8/16   34    Male            1                \n",
       "42          7/4/18   11  Female            1                \n",
       "475        7/14/18   33    Male            1                \n",
       "\n",
       "                                             Narrative Incident Locale  \\\n",
       "400  34YOM BURN HAND PLAYING W/ SPARKLER FIREWORK- ...            Home   \n",
       "42   11 YOF INJURED EYE,PLAYING WITH FIRECRACKERS W...            Home   \n",
       "475  33YOM C/O BURNS BILAT HANDS & FOREARM FROM 4TH...            Home   \n",
       "\n",
       "    Body_Part                                    Diagnosis  \n",
       "400      Hand  Burns, thermal (from flames or hot surface)  \n",
       "42    Eyeball                        Contusions, Abrasions  \n",
       "475      Hand  Burns, thermal (from flames or hot surface)  "
      ],
      "text/html": "<div>\n<style scoped>\n    .dataframe tbody tr th:only-of-type {\n        vertical-align: middle;\n    }\n\n    .dataframe tbody tr th {\n        vertical-align: top;\n    }\n\n    .dataframe thead th {\n        text-align: right;\n    }\n</style>\n<table border=\"1\" class=\"dataframe\">\n  <thead>\n    <tr style=\"text-align: right;\">\n      <th></th>\n      <th>Treatment_Date</th>\n      <th>Age</th>\n      <th>Sex</th>\n      <th>Disposition</th>\n      <th>Alcohol</th>\n      <th>Drug</th>\n      <th>Narrative</th>\n      <th>Incident Locale</th>\n      <th>Body_Part</th>\n      <th>Diagnosis</th>\n    </tr>\n  </thead>\n  <tbody>\n    <tr>\n      <th>400</th>\n      <td>11/8/16</td>\n      <td>34</td>\n      <td>Male</td>\n      <td>1</td>\n      <td></td>\n      <td></td>\n      <td>34YOM BURN HAND PLAYING W/ SPARKLER FIREWORK- ...</td>\n      <td>Home</td>\n      <td>Hand</td>\n      <td>Burns, thermal (from flames or hot surface)</td>\n    </tr>\n    <tr>\n      <th>42</th>\n      <td>7/4/18</td>\n      <td>11</td>\n      <td>Female</td>\n      <td>1</td>\n      <td></td>\n      <td></td>\n      <td>11 YOF INJURED EYE,PLAYING WITH FIRECRACKERS W...</td>\n      <td>Home</td>\n      <td>Eyeball</td>\n      <td>Contusions, Abrasions</td>\n    </tr>\n    <tr>\n      <th>475</th>\n      <td>7/14/18</td>\n      <td>33</td>\n      <td>Male</td>\n      <td>1</td>\n      <td></td>\n      <td></td>\n      <td>33YOM C/O BURNS BILAT HANDS &amp; FOREARM FROM 4TH...</td>\n      <td>Home</td>\n      <td>Hand</td>\n      <td>Burns, thermal (from flames or hot surface)</td>\n    </tr>\n  </tbody>\n</table>\n</div>"
     },
     "metadata": {},
     "execution_count": 41
    }
   ],
   "source": [
    "# fix Diagnosis\n",
    "df5 = pd.merge(df4, diagnosis_df, left_on='Diagnosis', right_on='Code').drop(['Code','Diagnosis'],axis=1)\n",
    "df5.rename(columns={'Diagnosis1':'Diagnosis'},inplace=True)\n",
    "df5.sample(3)"
   ]
  },
  {
   "cell_type": "code",
   "execution_count": 42,
   "metadata": {},
   "outputs": [
    {
     "output_type": "execute_result",
     "data": {
      "text/plain": [
       "   Code                                        Disposition\n",
       "0     1                     Treated/Untreated and Released\n",
       "1     2        Treated and transferred to another hospital\n",
       "2     3           Treated and admitted for hospitalization\n",
       "3     4                               Held for observation\n",
       "4     5                            Left without being seen\n",
       "5     6                        Left against medical advice\n",
       "6     7                             Left without treatment\n",
       "7     8  Eloped Fatality/DOA/died in the ED/Died after ...\n",
       "8     9                                       Not recorded"
      ],
      "text/html": "<div>\n<style scoped>\n    .dataframe tbody tr th:only-of-type {\n        vertical-align: middle;\n    }\n\n    .dataframe tbody tr th {\n        vertical-align: top;\n    }\n\n    .dataframe thead th {\n        text-align: right;\n    }\n</style>\n<table border=\"1\" class=\"dataframe\">\n  <thead>\n    <tr style=\"text-align: right;\">\n      <th></th>\n      <th>Code</th>\n      <th>Disposition</th>\n    </tr>\n  </thead>\n  <tbody>\n    <tr>\n      <th>0</th>\n      <td>1</td>\n      <td>Treated/Untreated and Released</td>\n    </tr>\n    <tr>\n      <th>1</th>\n      <td>2</td>\n      <td>Treated and transferred to another hospital</td>\n    </tr>\n    <tr>\n      <th>2</th>\n      <td>3</td>\n      <td>Treated and admitted for hospitalization</td>\n    </tr>\n    <tr>\n      <th>3</th>\n      <td>4</td>\n      <td>Held for observation</td>\n    </tr>\n    <tr>\n      <th>4</th>\n      <td>5</td>\n      <td>Left without being seen</td>\n    </tr>\n    <tr>\n      <th>5</th>\n      <td>6</td>\n      <td>Left against medical advice</td>\n    </tr>\n    <tr>\n      <th>6</th>\n      <td>7</td>\n      <td>Left without treatment</td>\n    </tr>\n    <tr>\n      <th>7</th>\n      <td>8</td>\n      <td>Eloped Fatality/DOA/died in the ED/Died after ...</td>\n    </tr>\n    <tr>\n      <th>8</th>\n      <td>9</td>\n      <td>Not recorded</td>\n    </tr>\n  </tbody>\n</table>\n</div>"
     },
     "metadata": {},
     "execution_count": 42
    }
   ],
   "source": [
    "# import Disposition pkl\n",
    "disposition_df = pd.read_pickle('df_disposition.pkl')\n",
    "disposition_df"
   ]
  },
  {
   "cell_type": "code",
   "execution_count": 45,
   "metadata": {},
   "outputs": [
    {
     "output_type": "execute_result",
     "data": {
      "text/plain": [
       "    Treatment_Date  Age     Sex Alcohol Drug  \\\n",
       "781         7/6/19    6  Female     0.0  0.0   \n",
       "951         1/2/17   11    Male                \n",
       "758         7/6/16    9    Male                \n",
       "\n",
       "                                             Narrative Incident Locale  \\\n",
       "781  6YOF W/PARTIAL THICKNESS BURN TO THE BACK OF R...            Home   \n",
       "951  11YOM W/LAC TO EYEBROW,PERIORBITAL BRUISING,VI...            Home   \n",
       "758  9 YOM BURN OCCURED WHILE PLAYING WITH FIREWORK...            Home   \n",
       "\n",
       "     Body_Part                                    Diagnosis  \\\n",
       "781  Lower Leg  Burns, thermal (from flames or hot surface)   \n",
       "951       Face                                   Laceration   \n",
       "758        Ear  Burns, thermal (from flames or hot surface)   \n",
       "\n",
       "                        Disposition  \n",
       "781  Treated/Untreated and Released  \n",
       "951  Treated/Untreated and Released  \n",
       "758  Treated/Untreated and Released  "
      ],
      "text/html": "<div>\n<style scoped>\n    .dataframe tbody tr th:only-of-type {\n        vertical-align: middle;\n    }\n\n    .dataframe tbody tr th {\n        vertical-align: top;\n    }\n\n    .dataframe thead th {\n        text-align: right;\n    }\n</style>\n<table border=\"1\" class=\"dataframe\">\n  <thead>\n    <tr style=\"text-align: right;\">\n      <th></th>\n      <th>Treatment_Date</th>\n      <th>Age</th>\n      <th>Sex</th>\n      <th>Alcohol</th>\n      <th>Drug</th>\n      <th>Narrative</th>\n      <th>Incident Locale</th>\n      <th>Body_Part</th>\n      <th>Diagnosis</th>\n      <th>Disposition</th>\n    </tr>\n  </thead>\n  <tbody>\n    <tr>\n      <th>781</th>\n      <td>7/6/19</td>\n      <td>6</td>\n      <td>Female</td>\n      <td>0.0</td>\n      <td>0.0</td>\n      <td>6YOF W/PARTIAL THICKNESS BURN TO THE BACK OF R...</td>\n      <td>Home</td>\n      <td>Lower Leg</td>\n      <td>Burns, thermal (from flames or hot surface)</td>\n      <td>Treated/Untreated and Released</td>\n    </tr>\n    <tr>\n      <th>951</th>\n      <td>1/2/17</td>\n      <td>11</td>\n      <td>Male</td>\n      <td></td>\n      <td></td>\n      <td>11YOM W/LAC TO EYEBROW,PERIORBITAL BRUISING,VI...</td>\n      <td>Home</td>\n      <td>Face</td>\n      <td>Laceration</td>\n      <td>Treated/Untreated and Released</td>\n    </tr>\n    <tr>\n      <th>758</th>\n      <td>7/6/16</td>\n      <td>9</td>\n      <td>Male</td>\n      <td></td>\n      <td></td>\n      <td>9 YOM BURN OCCURED WHILE PLAYING WITH FIREWORK...</td>\n      <td>Home</td>\n      <td>Ear</td>\n      <td>Burns, thermal (from flames or hot surface)</td>\n      <td>Treated/Untreated and Released</td>\n    </tr>\n  </tbody>\n</table>\n</div>"
     },
     "metadata": {},
     "execution_count": 45
    }
   ],
   "source": [
    "# fix Disposition\n",
    "df6 = pd.merge(df5, disposition_df, left_on='Disposition', right_on='Code').drop(['Code','Disposition_x'],axis=1)\n",
    "df6.rename(columns={'Disposition_y':'Disposition'},inplace=True)\n",
    "df6.sample(3)"
   ]
  },
  {
   "cell_type": "code",
   "execution_count": null,
   "metadata": {},
   "outputs": [],
   "source": [
    "# export out pickel of cleaned data\n",
    "df6.to_pickle('clean.pkl')"
   ]
  }
 ]
}